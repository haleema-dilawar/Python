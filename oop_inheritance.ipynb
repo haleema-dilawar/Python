{
 "cells": [
  {
   "cell_type": "code",
   "execution_count": 2,
   "id": "47e0a9d2",
   "metadata": {},
   "outputs": [],
   "source": [
    "#Create a Bus class that inherits from the Vehicle class.\n",
    "#Give the capacity argument of Bus.seating_capacity() a default value of 50."
   ]
  },
  {
   "cell_type": "code",
   "execution_count": 3,
   "id": "3b16b6cb",
   "metadata": {},
   "outputs": [
    {
     "name": "stdout",
     "output_type": "stream",
     "text": [
      "<__main__.Vehicle object at 0x000001E4C9D63220>\n",
      "Toyota\n",
      "Black\n",
      "2022\n",
      "80\n"
     ]
    }
   ],
   "source": [
    "class Vehicle:\n",
    "    def __init__(self,brand,model_year,color,speed_limit):\n",
    "        self.Brand = brand\n",
    "        self.Model_Year = model_year\n",
    "        self.Color = color\n",
    "        self.Speed_Limit = speed_limit\n",
    "    \n",
    "v1 = Vehicle(\"Toyota\",2022,\"Black\",80)\n",
    "print(v1)\n",
    "print(v1.Brand)\n",
    "print(v1.Color)\n",
    "print(v1.Model_Year)\n",
    "print(v1.Speed_Limit)"
   ]
  },
  {
   "cell_type": "code",
   "execution_count": 1,
   "id": "973e179b",
   "metadata": {},
   "outputs": [],
   "source": [
    "class Vehicle:\n",
    "    def __init__(self,brand,model_year,color,speed_limit):\n",
    "        self.Brand = brand\n",
    "        self.Model_Year = model_year\n",
    "        self.Color = color\n",
    "        self.Speed_Limit = speed_limit\n",
    "    \n",
    "class Bus(Vehicle):\n",
    "    def __init__(self,brand,model_year,color,speed_limit,max_capacity):\n",
    "        super(Bus, self).__init__(brand,model_year,color,speed_limit)\n",
    "        self.Max_Capacity = max_capacity"
   ]
  },
  {
   "cell_type": "code",
   "execution_count": null,
   "id": "b5f0e98d",
   "metadata": {},
   "outputs": [
    {
     "name": "stdout",
     "output_type": "stream",
     "text": [
      "pygame 2.1.2 (SDL 2.0.18, Python 3.9.7)\n",
      "Hello from the pygame community. https://www.pygame.org/contribute.html\n",
      "<Event(4352-AudioDeviceAdded {'which': 0, 'iscapture': 0})>\n",
      "<Event(4352-AudioDeviceAdded {'which': 0, 'iscapture': 1})>\n",
      "<Event(4352-AudioDeviceAdded {'which': 1, 'iscapture': 1})>\n",
      "<Event(32768-ActiveEvent {})>\n",
      "<Event(32774-WindowShown {'window': None})>\n",
      "<Event(32770-VideoExpose {})>\n",
      "<Event(32776-WindowExposed {'window': None})>\n"
     ]
    }
   ],
   "source": [
    "import pygame\n",
    "pygame.init()\n",
    "dis=pygame.display.set_mode((400,300))\n",
    "pygame.display.update()\n",
    "pygame.display.set_caption('Snake game by Edureka')\n",
    "game_over=False\n",
    "while not game_over:\n",
    "    for event in pygame.event.get():\n",
    "        print(event)   #prints out all the actions that take place on the screen\n",
    " \n",
    "pygame.quit()\n",
    "quit()"
   ]
  },
  {
   "cell_type": "code",
   "execution_count": null,
   "id": "a096a814",
   "metadata": {},
   "outputs": [],
   "source": []
  }
 ],
 "metadata": {
  "kernelspec": {
   "display_name": "Python 3 (ipykernel)",
   "language": "python",
   "name": "python3"
  },
  "language_info": {
   "codemirror_mode": {
    "name": "ipython",
    "version": 3
   },
   "file_extension": ".py",
   "mimetype": "text/x-python",
   "name": "python",
   "nbconvert_exporter": "python",
   "pygments_lexer": "ipython3",
   "version": "3.9.7"
  }
 },
 "nbformat": 4,
 "nbformat_minor": 5
}
